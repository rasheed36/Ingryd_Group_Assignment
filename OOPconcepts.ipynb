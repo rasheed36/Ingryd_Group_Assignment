{
  "metadata": {
    "kernelspec": {
      "name": "python",
      "display_name": "Python (Pyodide)",
      "language": "python"
    },
    "language_info": {
      "codemirror_mode": {
        "name": "python",
        "version": 3
      },
      "file_extension": ".py",
      "mimetype": "text/x-python",
      "name": "python",
      "nbconvert_exporter": "python",
      "pygments_lexer": "ipython3",
      "version": "3.8"
    }
  },
  "nbformat_minor": 4,
  "nbformat": 4,
  "cells": [
    {
      "cell_type": "code",
      "source": "class Employee:\n    def __init__(self, name, age, salary, gender):\n        self.name = name\n        self.age = age\n        self.salary = salary\n        self.gender = gender\n        \n    def getGender(self):\n        print(f\"Gender: {self.gender}\")\n        \n    def getSalary(self):\n       print(f\"Salary: {self.salary}\") \n        \n    def getRank(self):\n        if self.salary > 100000:\n           print(\"Senior Role\") \n        else:\n            print(\"Junior Role\")     ",
      "metadata": {
        "trusted": true
      },
      "outputs": [],
      "execution_count": 19
    },
    {
      "cell_type": "code",
      "source": "employeeone=Employee('Sarah', 27, 80000, 'Female')",
      "metadata": {
        "trusted": true
      },
      "outputs": [],
      "execution_count": 20
    },
    {
      "cell_type": "code",
      "source": "employeeone.getGender()",
      "metadata": {
        "trusted": true
      },
      "outputs": [
        {
          "name": "stdout",
          "text": "Gender: Female\n",
          "output_type": "stream"
        }
      ],
      "execution_count": 21
    },
    {
      "cell_type": "code",
      "source": "employeeone.getSalary()",
      "metadata": {
        "trusted": true
      },
      "outputs": [
        {
          "name": "stdout",
          "text": "Salary: 80000\n",
          "output_type": "stream"
        }
      ],
      "execution_count": 22
    },
    {
      "cell_type": "code",
      "source": "employeeone.getRank()",
      "metadata": {
        "trusted": true
      },
      "outputs": [
        {
          "name": "stdout",
          "text": "Junior Role\n",
          "output_type": "stream"
        }
      ],
      "execution_count": 23
    },
    {
      "cell_type": "code",
      "source": "class Analyst(Employee):\n     def __init__(self, name, age, salary, gender, skills):\n         super().__init__(name, age, salary, gender)\n         self.skills = skills\n    # def getSkills(self):\n    #    print(f\"Skills: {self.skills}\")",
      "metadata": {
        "trusted": true
      },
      "outputs": [],
      "execution_count": 24
    },
    {
      "cell_type": "code",
      "source": "employeetwo=Analyst('Sarah', 27, 120000, 'Female','Soccer')",
      "metadata": {
        "trusted": true
      },
      "outputs": [],
      "execution_count": 25
    },
    {
      "cell_type": "code",
      "source": "employeetwo.skills",
      "metadata": {
        "trusted": true
      },
      "outputs": [
        {
          "execution_count": 26,
          "output_type": "execute_result",
          "data": {
            "text/plain": "'Soccer'"
          },
          "metadata": {}
        }
      ],
      "execution_count": 26
    },
    {
      "cell_type": "code",
      "source": "class Analysts(Employee):\n     def __init__(self, name, age, salary, gender):\n        super().__init__(name, age, salary, gender)\n     def getSkills(self):\n        print(\"Skills: ['Running', 'Singing]\")",
      "metadata": {
        "trusted": true
      },
      "outputs": [],
      "execution_count": 27
    },
    {
      "cell_type": "code",
      "source": "employeethree=Analysts('Sarah', 27, 120000, 'Female')",
      "metadata": {
        "trusted": true
      },
      "outputs": [],
      "execution_count": 28
    },
    {
      "cell_type": "code",
      "source": "employeethree.getSkills()",
      "metadata": {
        "trusted": true
      },
      "outputs": [
        {
          "name": "stdout",
          "text": "Skills: ['Running', 'Singing]\n",
          "output_type": "stream"
        }
      ],
      "execution_count": 29
    },
    {
      "cell_type": "code",
      "source": "",
      "metadata": {
        "trusted": true
      },
      "outputs": [],
      "execution_count": null
    }
  ]
}